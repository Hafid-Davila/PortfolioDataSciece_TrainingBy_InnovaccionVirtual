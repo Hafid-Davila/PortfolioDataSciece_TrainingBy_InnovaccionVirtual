{
 "cells": [
  {
   "cell_type": "markdown",
   "metadata": {},
   "source": [
    "### Warning App\n",
    "\n",
    "##### app que imprimira una advertencia si un asteroide se acerca a la Tiera demasiado rapido\n",
    "###### lab para aprender a escribir declaraciones if, else, y elif "
   ]
  },
  {
   "cell_type": "code",
   "execution_count": 2,
   "metadata": {},
   "outputs": [
    {
     "name": "stdout",
     "output_type": "stream",
     "text": [
      "Un asteroide se acerca a la tierra, y viaja a 49 km/h. Estamos en peligro!\n"
     ]
    }
   ],
   "source": [
    "# Ejercio 1: if y else\n",
    "# se agrega el codigo para crear una variable que guarde la velocidad del asteroide, esribir una expression de prueba,\n",
    "# y agregar instrucciones para que el asteroide se mueva\n",
    " \n",
    "speedAsteroide = 49\n",
    "\n",
    "if speedAsteroide > 25:\n",
    "    print (\"Un asteroide se acerca a la tierra, y viaja a \" + str(speedAsteroide) + \" km/h.\" + \" Estamos en peligro!\")\n",
    "else:\n",
    "    print (\"Un asteroide esta cerca de la tierra pero esta fuera de rango\")\n",
    "\n"
   ]
  },
  {
   "cell_type": "code",
   "execution_count": 5,
   "metadata": {},
   "outputs": [
    {
     "name": "stdout",
     "output_type": "stream",
     "text": [
      "El asteroide esta cerca de la tierra, pero esta fuera de rango y no se ve nada\n"
     ]
    }
   ],
   "source": [
    "# Ejercio 2: if, elif y else\n",
    "\n",
    "asteroideVelocity = 19 # km/h\n",
    "\n",
    "if asteroideVelocity > 20:\n",
    "    print(\"El asteroide esta cerca de la tierra, y viaja a \" + str(asteroideVelocity) + \" km/h, sal se ve hermoso el cielo\")\n",
    "elif asteroideVelocity == 19:\n",
    "    print(\"El asteroide esta cerca de la tierra, pero esta fuera de rango y no se ve nada\")\n",
    "else:\n",
    "    print(\"Un asteroide se acerca a la tierra pero estamos fuera de peligro, y no hay por que preocuparnos\")\n",
    "\n"
   ]
  },
  {
   "cell_type": "code",
   "execution_count": null,
   "metadata": {},
   "outputs": [],
   "source": [
    "# Ejercio 3: Uso de operadores and y or\n",
    "\n"
   ]
  }
 ],
 "metadata": {
  "kernelspec": {
   "display_name": "Python 3.10.5 64-bit (windows store)",
   "language": "python",
   "name": "python3"
  },
  "language_info": {
   "codemirror_mode": {
    "name": "ipython",
    "version": 3
   },
   "file_extension": ".py",
   "mimetype": "text/x-python",
   "name": "python",
   "nbconvert_exporter": "python",
   "pygments_lexer": "ipython3",
   "version": "3.10.5"
  },
  "orig_nbformat": 4,
  "vscode": {
   "interpreter": {
    "hash": "f8ee2535da9eb9bbb9c36d88d388bc71701ba72933a0b4440cb53368047c99cd"
   }
  }
 },
 "nbformat": 4,
 "nbformat_minor": 2
}
